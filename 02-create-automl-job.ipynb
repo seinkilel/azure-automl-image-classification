{
 "cells": [
  {
   "metadata": {},
   "cell_type": "markdown",
   "source": [
    "# Creation of an Auto ML Job for image classification\n",
    "\n",
    "Now we can use the data assets created in data preparation to create and submit an automl image classification job.\n",
    "\n",
    "\n",
    "https://github.com/MicrosoftDocs/azure-docs/blob/main/articles/machine-learning/concept-automated-ml.md\n",
    "and \n",
    "\n",
    "https://github.com/MicrosoftDocs/azure-docs/blob/main/articles/machine-learning/how-to-auto-train-image-models.md\n",
    "\n",
    "\n",
    "\n",
    "## Access to our client and datastore "
   ],
   "id": "3e7d76462e20eb5d"
  },
  {
   "cell_type": "code",
   "id": "initial_id",
   "metadata": {
    "collapsed": true,
    "ExecuteTime": {
     "end_time": "2024-05-12T08:11:39.583734Z",
     "start_time": "2024-05-12T08:11:36.418923Z"
    }
   },
   "source": [
    "from lib import get_client\n",
    "client=get_client()\n",
    "print(f'workspace name: {client.workspace_name}')\n",
    "datastore=client.datastores.get_default()\n",
    "print(f'datastore name: {datastore.name} type: {datastore.type}')"
   ],
   "outputs": [
    {
     "name": "stdout",
     "output_type": "stream",
     "text": [
      "workspace name: azure-ml\n",
      "datastore name: storecapture type: DatastoreType.AZURE_DATA_LAKE_GEN2\n"
     ]
    }
   ],
   "execution_count": 31
  },
  {
   "metadata": {},
   "cell_type": "markdown",
   "source": [
    "## Create the job data input for training and validation \n",
    "\n",
    "Get asset for train and validation dataset"
   ],
   "id": "ca1a87bc72c90650"
  },
  {
   "metadata": {
    "ExecuteTime": {
     "end_time": "2024-05-12T08:11:43.083407Z",
     "start_time": "2024-05-12T08:11:39.585630Z"
    }
   },
   "cell_type": "code",
   "source": [
    "train_asset=client.data.get(name=\"automl-grstb-classification-train\",version=\"2.0.0\")\n",
    "validation_asset=client.data.get(name=\"automl-grstb-classification-validation\",version=\"2.0.0\")\n",
    "print(f'train path {train_asset.path}')\n",
    "print(f'validation path {validation_asset.path}')"
   ],
   "id": "c9280d43c7ecb9cf",
   "outputs": [
    {
     "name": "stdout",
     "output_type": "stream",
     "text": [
      "train path azureml://subscriptions/7db1ee9f-abea-4b8b-b5a9-e6e82ecfa19d/resourcegroups/azure-ml/workspaces/azure-ml/datastores/workspaceblobstore/paths/LocalUpload/d8c6cf110a628040f8f4cade5b098289/train/\n",
      "validation path azureml://subscriptions/7db1ee9f-abea-4b8b-b5a9-e6e82ecfa19d/resourcegroups/azure-ml/workspaces/azure-ml/datastores/workspaceblobstore/paths/LocalUpload/8858f4c8522beda1b2e65a2b0c2ae234/validation/\n"
     ]
    }
   ],
   "execution_count": 32
  },
  {
   "metadata": {},
   "cell_type": "markdown",
   "source": "Create input paths for the job  ",
   "id": "c4aeceba49dafb20"
  },
  {
   "metadata": {
    "ExecuteTime": {
     "end_time": "2024-05-12T08:11:43.088980Z",
     "start_time": "2024-05-12T08:11:43.084557Z"
    }
   },
   "cell_type": "code",
   "source": [
    "from azure.ai.ml import Input\n",
    "from azure.ai.ml.constants import AssetTypes\n",
    "\n",
    "training_data_input = Input(type=AssetTypes.MLTABLE, path=train_asset.path)\n",
    "validation_data_input = Input(type=AssetTypes.MLTABLE, path=validation_asset.path)\n",
    "print(training_data_input)\n",
    "print(validation_data_input)"
   ],
   "id": "944603d563c87fe7",
   "outputs": [
    {
     "name": "stdout",
     "output_type": "stream",
     "text": [
      "{'type': 'mltable', 'path': 'azureml://subscriptions/7db1ee9f-abea-4b8b-b5a9-e6e82ecfa19d/resourcegroups/azure-ml/workspaces/azure-ml/datastores/workspaceblobstore/paths/LocalUpload/d8c6cf110a628040f8f4cade5b098289/train/'}\n",
      "{'type': 'mltable', 'path': 'azureml://subscriptions/7db1ee9f-abea-4b8b-b5a9-e6e82ecfa19d/resourcegroups/azure-ml/workspaces/azure-ml/datastores/workspaceblobstore/paths/LocalUpload/8858f4c8522beda1b2e65a2b0c2ae234/validation/'}\n"
     ]
    }
   ],
   "execution_count": 33
  },
  {
   "metadata": {},
   "cell_type": "markdown",
   "source": [
    "## Create the image classification job \n",
    "\n",
    "The model architectures available in auto ml are \n",
    "\n",
    "- MobileNet: Light-weighted models for mobile applications\n",
    "- ResNet: Residual networks\n",
    "- ResNeSt: Split attention networks\n",
    "- SE-ResNeXt50: Squeeze-and-Excitation networks\n",
    "- ViT: Vision transformer networks\n",
    "\n",
    "And the models:\n",
    "\n",
    "- mobilenetv2\n",
    "- resnet18\n",
    "- resnet34\n",
    "- resnet50\n",
    "- resnet101\n",
    "- resnet152\n",
    "- resnest50\n",
    "- resnest101\n",
    "- seresnext\n",
    "- vits16r224 (small)\n",
    "- vitb16r224* (base)\n",
    "- vitl16r224 (large)\n",
    "\n",
    "\n",
    "We choose the resnet50 model "
   ],
   "id": "5d15c2974cfba74c"
  },
  {
   "metadata": {
    "ExecuteTime": {
     "end_time": "2024-05-12T08:11:43.097213Z",
     "start_time": "2024-05-12T08:11:43.091921Z"
    }
   },
   "cell_type": "code",
   "source": [
    "model_name=\"resnet50\"\n",
    "compute=\"gpu01\"\n",
    "experiment_name=\"grstb-signal-classification\""
   ],
   "id": "e10788d17fa610c1",
   "outputs": [],
   "execution_count": 34
  },
  {
   "metadata": {
    "ExecuteTime": {
     "end_time": "2024-05-12T08:11:43.107265Z",
     "start_time": "2024-05-12T08:11:43.099858Z"
    }
   },
   "cell_type": "code",
   "source": [
    "from azure.ai.ml import automl\n",
    "from azure.ai.ml.automl import ClassificationMultilabelPrimaryMetrics\n",
    "\n",
    "image_classification_job = automl.ImageClassificationJob(\n",
    "       experiment_name=experiment_name,\n",
    "       compute=compute,\n",
    "       #model_name=model_name,\n",
    "       training_data=training_data_input,\n",
    "       validation_data=validation_data_input,\n",
    "       target_column_name=\"label\",\n",
    "       primary_metric=ClassificationMultilabelPrimaryMetrics.ACCURACY,\n",
    "       tags={\"grstb\": \"classification\"},\n",
    "   )\n"
   ],
   "id": "eb092ee6e37d460",
   "outputs": [],
   "execution_count": 35
  },
  {
   "metadata": {},
   "cell_type": "markdown",
   "source": [
    "## Hyper Parameters configuration\n",
    "\n",
    "We can configure some hyperparameter or keep the default value use by azure. \n",
    "\n",
    "See image job default values hyperparameters in:\n",
    "\n",
    "https://learn.microsoft.com/en-gb/azure/machine-learning/reference-automl-images-hyperparameters?view=azureml-api-2\n",
    "\n",
    "we will just change the number of epochs "
   ],
   "id": "e89b1e8e578d2983"
  },
  {
   "metadata": {
    "ExecuteTime": {
     "end_time": "2024-05-12T08:11:43.111884Z",
     "start_time": "2024-05-12T08:11:43.109045Z"
    }
   },
   "cell_type": "code",
   "source": "image_classification_job.set_training_parameters(number_of_epochs=8,model_name=model_name)",
   "id": "2ed4c04fb2a4813e",
   "outputs": [],
   "execution_count": 36
  },
  {
   "metadata": {},
   "cell_type": "markdown",
   "source": [
    "## Submit the job \n",
    "\n",
    "Be sure that gpu01 is running before to submit the job "
   ],
   "id": "a4c8d7ba9fd73e2b"
  },
  {
   "metadata": {
    "ExecuteTime": {
     "end_time": "2024-05-12T08:11:43.115691Z",
     "start_time": "2024-05-12T08:11:43.113219Z"
    }
   },
   "cell_type": "code",
   "source": [
    "#returned_job=client.create_or_update(image_classification_job)\n",
    "#print(f\"Created job: {returned_job}\")"
   ],
   "id": "c96c01a308609c0f",
   "outputs": [],
   "execution_count": 37
  },
  {
   "metadata": {},
   "cell_type": "markdown",
   "source": [
    "The duration of the job is 2 hours and accuracy is 99.9962 % ! \n",
    "\n",
    "See metrics at :\n",
    "\n",
    "https://ml.azure.com/experiments/id/8fcd5cfd-dde2-4987-a6cb-5804251a160c/runs/gray_door_slb5k9v3yl_HD_0?wsid=/subscriptions/7db1ee9f-abea-4b8b-b5a9-e6e82ecfa19d/resourceGroups/azure-ml/providers/Microsoft.MachineLearningServices/workspaces/azure-ml&tid=5d250ee6-9438-4941-b7c3-dab39198c26a#metrics\n",
    "\n"
   ],
   "id": "83183ea1929dc592"
  }
 ],
 "metadata": {
  "kernelspec": {
   "display_name": "Python 3",
   "language": "python",
   "name": "python3"
  },
  "language_info": {
   "codemirror_mode": {
    "name": "ipython",
    "version": 2
   },
   "file_extension": ".py",
   "mimetype": "text/x-python",
   "name": "python",
   "nbconvert_exporter": "python",
   "pygments_lexer": "ipython2",
   "version": "2.7.6"
  }
 },
 "nbformat": 4,
 "nbformat_minor": 5
}
