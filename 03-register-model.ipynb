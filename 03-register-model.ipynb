{
 "cells": [
  {
   "metadata": {},
   "cell_type": "markdown",
   "source": "# Register model in Azure Machine learning",
   "id": "8e7ab1e9bd0df14b"
  },
  {
   "cell_type": "code",
   "id": "initial_id",
   "metadata": {
    "collapsed": true,
    "ExecuteTime": {
     "end_time": "2024-05-12T13:15:21.429850Z",
     "start_time": "2024-05-12T13:15:18.793327Z"
    }
   },
   "source": [
    "from azureml.core import Workspace\n",
    "\n",
    "from lib import get_client,get_workspace\n",
    "client=get_client()\n",
    "print(f'workspace name: {client.workspace_name}')\n",
    "datastore=client.datastores.get_default()\n",
    "print(f'datastore name: {datastore.name} type: {datastore.type}')"
   ],
   "outputs": [
    {
     "name": "stdout",
     "output_type": "stream",
     "text": [
      "workspace name: azure-ml\n",
      "datastore name: storecapture type: DatastoreType.AZURE_DATA_LAKE_GEN2\n"
     ]
    }
   ],
   "execution_count": 22
  },
  {
   "metadata": {
    "ExecuteTime": {
     "end_time": "2024-05-12T13:15:25.163227Z",
     "start_time": "2024-05-12T13:15:21.432084Z"
    }
   },
   "cell_type": "code",
   "source": [
    "ws=get_workspace()\n",
    "experiments=ws.experiments.get('grstb-signal-classification')"
   ],
   "id": "b44592016b2b1603",
   "outputs": [
    {
     "data": {
      "text/plain": [
       "{'_workspace': Workspace.create(name='azure-ml', subscription_id='7db1ee9f-abea-4b8b-b5a9-e6e82ecfa19d', resource_group='azure-ml'),\n",
       " '_name': 'grstb-signal-classification',\n",
       " '_workspace_client': <azureml._restclient.workspace_client.WorkspaceClient at 0x151c12150>,\n",
       " '_id': '8fcd5cfd-dde2-4987-a6cb-5804251a160c',\n",
       " '_archived_time': None,\n",
       " '_experiment_dto': <azureml._restclient.models.experiment_dto.ExperimentDto at 0x132d42690>,\n",
       " '_tags': {},\n",
       " '_identity': 'Experiment#grstb-signal-classification',\n",
       " '_logger': <TraceLogger azureml.Experiment#grstb-signal-classification (WARNING)>,\n",
       " '_portal_url': 'https://ml.azure.com',\n",
       " '_formatted_tid': '&tid=5d250ee6-9438-4941-b7c3-dab39198c26a',\n",
       " '_workspace_url': 'https://ml.azure.com?wsid=/subscriptions/7db1ee9f-abea-4b8b-b5a9-e6e82ecfa19d/resourcegroups/azure-ml/workspaces/azure-ml&tid=5d250ee6-9438-4941-b7c3-dab39198c26a',\n",
       " '_experiment_url': 'https://ml.azure.com/experiments/id/8fcd5cfd-dde2-4987-a6cb-5804251a160c?wsid=/subscriptions/7db1ee9f-abea-4b8b-b5a9-e6e82ecfa19d/resourcegroups/azure-ml/workspaces/azure-ml&tid=5d250ee6-9438-4941-b7c3-dab39198c26a'}"
      ]
     },
     "execution_count": 23,
     "metadata": {},
     "output_type": "execute_result"
    }
   ],
   "execution_count": 23
  },
  {
   "metadata": {
    "ExecuteTime": {
     "end_time": "2024-05-12T13:15:26.333542Z",
     "start_time": "2024-05-12T13:15:25.164687Z"
    }
   },
   "cell_type": "code",
   "source": [
    "runs=experiments.get_runs()\n",
    "for run in runs:\n",
    "    print(run)"
   ],
   "id": "62d476a00e4dd16e",
   "outputs": [
    {
     "name": "stdout",
     "output_type": "stream",
     "text": [
      "Run(Experiment: grstb-signal-classification,\n",
      "Id: gray_door_slb5k9v3yl,\n",
      "Type: automl,\n",
      "Status: Completed)\n"
     ]
    }
   ],
   "execution_count": 24
  },
  {
   "metadata": {
    "ExecuteTime": {
     "end_time": "2024-05-12T14:55:12.634854Z",
     "start_time": "2024-05-12T14:55:12.023574Z"
    }
   },
   "cell_type": "code",
   "source": [
    "import mlflow\n",
    "\n",
    "MLFLOW_TRACKING_URI=ws.get_mlflow_tracking_uri()\n",
    "mlflow.set_tracking_uri(MLFLOW_TRACKING_URI)\n",
    "\n",
    "from mlflow.tracking.client import MlflowClient\n",
    "\n",
    "mlflow_client = MlflowClient()\n",
    "mlflow_parent_run = mlflow_client.get_run('gray_door_slb5k9v3yl')\n",
    "\n",
    "# Fetch the id of the best automl child trial.\n",
    "target_checkpoint_run_id = mlflow_parent_run.data.tags[\"automl_best_child_run_id\"]\n",
    "print(target_checkpoint_run_id)"
   ],
   "id": "e0ce47ee768fe087",
   "outputs": [
    {
     "name": "stdout",
     "output_type": "stream",
     "text": [
      "gray_door_slb5k9v3yl_HD_0\n"
     ]
    }
   ],
   "execution_count": 45
  },
  {
   "metadata": {
    "ExecuteTime": {
     "end_time": "2024-05-12T14:55:31.630227Z",
     "start_time": "2024-05-12T14:55:30.987386Z"
    }
   },
   "cell_type": "code",
   "source": [
    "best_child_run_id = mlflow_parent_run.data.tags[\"automl_best_child_run_id\"]\n",
    "print(f\"Found best child run id: {best_child_run_id}\")\n",
    "\n",
    "best_run = mlflow_client.get_run(best_child_run_id)\n",
    "\n",
    "print(\"Best child run: \")\n",
    "print(best_run)"
   ],
   "id": "88beade0f83986a1",
   "outputs": [
    {
     "name": "stdout",
     "output_type": "stream",
     "text": [
      "Found best child run id: gray_door_slb5k9v3yl_HD_0\n",
      "Best child run: \n",
      "<Run: data=<RunData: metrics={'AUC_macro': 1.0,\n",
      " 'AUC_micro': 1.0,\n",
      " 'AUC_weighted': 1.0,\n",
      " 'accuracy': 0.99962,\n",
      " 'accuracy_train': 0.9648,\n",
      " 'average_precision_score_macro': 1.0,\n",
      " 'average_precision_score_micro': 1.0,\n",
      " 'average_precision_score_weighted': 1.0,\n",
      " 'f1_score_macro': 0.99955,\n",
      " 'f1_score_micro': 0.99962,\n",
      " 'f1_score_weighted': 0.99962,\n",
      " 'log_loss': 0.00171,\n",
      " 'log_loss_train': 0.10817,\n",
      " 'precision_score_macro': 0.99941,\n",
      " 'precision_score_micro': 0.99962,\n",
      " 'precision_score_weighted': 0.99962,\n",
      " 'recall_score_macro': 0.9997,\n",
      " 'recall_score_micro': 0.99962,\n",
      " 'recall_score_weighted': 0.99962}, params={}, tags={'hyperparameters': '{\"ignored_argument\": 0}',\n",
      " 'mlflow.parentRunId': 'gray_door_slb5k9v3yl_HD',\n",
      " 'mlflow.rootRunId': 'gray_door_slb5k9v3yl',\n",
      " 'mlflow.runName': 'red_box_nt2pwhq8',\n",
      " 'mlflow.source.name': 'hd_image_classification_dnn_driver.py',\n",
      " 'mlflow.source.type': 'JOB',\n",
      " 'mlflow.user': 'Jean-Louis Tournay'}>, info=<RunInfo: artifact_uri='azureml://eastus.api.azureml.ms/mlflow/v2.0/subscriptions/7db1ee9f-abea-4b8b-b5a9-e6e82ecfa19d/resourceGroups/azure-ml/providers/Microsoft.MachineLearningServices/workspaces/azure-ml/experiments/8fcd5cfd-dde2-4987-a6cb-5804251a160c/runs/gray_door_slb5k9v3yl_HD_0/artifacts', end_time=1715504437307, experiment_id='8fcd5cfd-dde2-4987-a6cb-5804251a160c', lifecycle_stage='active', run_id='gray_door_slb5k9v3yl_HD_0', run_name='red_box_nt2pwhq8', run_uuid='gray_door_slb5k9v3yl_HD_0', start_time=1715497275341, status='FINISHED', user_id='0c2b2a6d-6ad2-4a67-87dc-926f191482d9'>, inputs=<RunInputs: dataset_inputs=[]>>\n"
     ]
    }
   ],
   "execution_count": 46
  },
  {
   "metadata": {},
   "cell_type": "code",
   "outputs": [],
   "execution_count": null,
   "source": [
    "from azure.ai.ml.constants import AssetTypes\n",
    "from azure.ai.ml.entities import Model\n",
    "import datetime\n",
    "model_name = \"grstb-signal-classification\"\n",
    "online_endpoint_name = \"grstb\" + datetime.datetime.now().strftime(\n",
    "    \"%m%d%H%M%f\"\n",
    ")\n",
    "model = Model(\n",
    "    path=f\"azureml://jobs/{best_run.info.run_id}/outputs/artifacts/outputs/mlflow-model/\",\n",
    "    name=model_name,\n",
    "    description=\"Grstb signal classification model\",\n",
    "    type=AssetTypes.MLFLOW_MODEL,\n",
    ")\n",
    "\n",
    "registered_model = client.models.create_or_update(model)\n",
    "print(registered_model)"
   ],
   "id": "1389f93c6874bd96"
  },
  {
   "metadata": {},
   "cell_type": "code",
   "outputs": [],
   "execution_count": null,
   "source": "",
   "id": "68fc4f9ac1198779"
  }
 ],
 "metadata": {
  "kernelspec": {
   "display_name": "Python 3",
   "language": "python",
   "name": "python3"
  },
  "language_info": {
   "codemirror_mode": {
    "name": "ipython",
    "version": 2
   },
   "file_extension": ".py",
   "mimetype": "text/x-python",
   "name": "python",
   "nbconvert_exporter": "python",
   "pygments_lexer": "ipython2",
   "version": "2.7.6"
  }
 },
 "nbformat": 4,
 "nbformat_minor": 5
}
