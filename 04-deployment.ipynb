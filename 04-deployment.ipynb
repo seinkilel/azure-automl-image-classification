{
 "cells": [
  {
   "metadata": {},
   "cell_type": "markdown",
   "source": [
    "# Deployment of the model \n",
    "\n"
   ],
   "id": "7ae8ed5eba159fd5"
  },
  {
   "metadata": {},
   "cell_type": "markdown",
   "source": "## Connect to the client ",
   "id": "a904c6d3361ae81d"
  },
  {
   "metadata": {
    "ExecuteTime": {
     "end_time": "2024-05-14T08:22:29.898255Z",
     "start_time": "2024-05-14T08:22:12.665833Z"
    }
   },
   "cell_type": "code",
   "source": [
    "from lib import get_client\n",
    "client=get_client()\n",
    "print(f'workspace name: {client.workspace_name}')\n",
    "datastore=client.datastores.get_default()\n",
    "print(f'datastore name: {datastore.name} type: {datastore.type}')"
   ],
   "id": "8f902c89b8f614cd",
   "outputs": [
    {
     "name": "stdout",
     "output_type": "stream",
     "text": [
      "workspace name: azure-ml\n",
      "datastore name: storecapture type: DatastoreType.AZURE_DATA_LAKE_GEN2\n"
     ]
    }
   ],
   "execution_count": 1
  },
  {
   "metadata": {},
   "cell_type": "markdown",
   "source": "## Get the Model ",
   "id": "a4b55dc5b76a168e"
  },
  {
   "metadata": {
    "ExecuteTime": {
     "end_time": "2024-05-14T09:34:38.772560Z",
     "start_time": "2024-05-14T09:34:36.890217Z"
    }
   },
   "cell_type": "code",
   "source": [
    "model_name = \"grstb-signal-classification\"\n",
    "registered_model=client.models.get(name=model_name,version='1')\n",
    "print(f'registered model id: {registered_model.id}')"
   ],
   "id": "9f88fb7a278fd168",
   "outputs": [
    {
     "name": "stdout",
     "output_type": "stream",
     "text": [
      "registered model id: /subscriptions/7db1ee9f-abea-4b8b-b5a9-e6e82ecfa19d/resourceGroups/azure-ml/providers/Microsoft.MachineLearningServices/workspaces/azure-ml/models/grstb-signal-classification/versions/1\n"
     ]
    }
   ],
   "execution_count": 35
  },
  {
   "metadata": {},
   "cell_type": "markdown",
   "source": "## Create an Online endpoint",
   "id": "62d0947bd05fcda8"
  },
  {
   "metadata": {
    "ExecuteTime": {
     "end_time": "2024-05-14T09:53:18.501338Z",
     "start_time": "2024-05-14T09:53:18.494966Z"
    }
   },
   "cell_type": "code",
   "source": [
    "\n",
    "from datetime import datetime\n",
    "from azure.ai.ml.entities import ManagedOnlineEndpoint\n",
    "\n",
    "\n",
    "online_endpoint_name = \"grstb\" + datetime.now().strftime(\n",
    "    \"%m%d%H%M%f\"\n",
    ")\n",
    "\n",
    "# create an online endpoint\n",
    "endpoint = ManagedOnlineEndpoint(\n",
    "    name=online_endpoint_name,\n",
    "    description=\"Grstb signal recognition endpoint\",\n",
    "    auth_mode=\"key\",\n",
    ")\n",
    "print(f'endpoint name: {online_endpoint_name}')"
   ],
   "id": "d09e74e23af1f569",
   "outputs": [
    {
     "name": "stdout",
     "output_type": "stream",
     "text": [
      "grstb05141353496629\n"
     ]
    }
   ],
   "execution_count": 42
  },
  {
   "metadata": {
    "ExecuteTime": {
     "end_time": "2024-05-14T09:54:33.824798Z",
     "start_time": "2024-05-14T09:53:22.423773Z"
    }
   },
   "cell_type": "code",
   "source": "client.begin_create_or_update(endpoint).result()",
   "id": "516fdf4954386981",
   "outputs": [
    {
     "data": {
      "text/plain": [
       "ManagedOnlineEndpoint({'public_network_access': 'Enabled', 'provisioning_state': 'Succeeded', 'scoring_uri': 'https://grstb05141353496629.eastus.inference.ml.azure.com/score', 'openapi_uri': 'https://grstb05141353496629.eastus.inference.ml.azure.com/swagger.json', 'name': 'grstb05141353496629', 'description': 'Grstb signal recognition endpoint', 'tags': {}, 'properties': {'azureml.onlineendpointid': '/subscriptions/7db1ee9f-abea-4b8b-b5a9-e6e82ecfa19d/resourcegroups/azure-ml/providers/microsoft.machinelearningservices/workspaces/azure-ml/onlineendpoints/grstb05141353496629', 'AzureAsyncOperationUri': 'https://management.azure.com/subscriptions/7db1ee9f-abea-4b8b-b5a9-e6e82ecfa19d/providers/Microsoft.MachineLearningServices/locations/eastus/mfeOperationsStatus/oe:284c1630-7a4b-4b08-93d2-12e6c09f7fe2:b79a269b-7f4b-45df-aa1e-c394a2fcb4d0?api-version=2022-02-01-preview'}, 'print_as_yaml': False, 'id': '/subscriptions/7db1ee9f-abea-4b8b-b5a9-e6e82ecfa19d/resourceGroups/azure-ml/providers/Microsoft.MachineLearningServices/workspaces/azure-ml/onlineEndpoints/grstb05141353496629', 'Resource__source_path': '', 'base_path': '/Users/jeanlouistournay/PycharmProjects/lab/end-2-end/image-classification/deployment', 'creation_context': None, 'serialize': <msrest.serialization.Serializer object at 0x15ed3b790>, 'auth_mode': 'key', 'location': 'eastus', 'identity': <azure.ai.ml.entities._credentials.IdentityConfiguration object at 0x15e1c6110>, 'traffic': {}, 'mirror_traffic': {}, 'kind': 'Managed'})"
      ]
     },
     "execution_count": 43,
     "metadata": {},
     "output_type": "execute_result"
    }
   ],
   "execution_count": 43
  },
  {
   "metadata": {
    "ExecuteTime": {
     "end_time": "2024-05-14T09:58:16.552635Z",
     "start_time": "2024-05-14T09:58:14.836737Z"
    }
   },
   "cell_type": "code",
   "source": [
    "endpoints=client.online_endpoints.get(online_endpoint_name)\n",
    "print(f'Name: {endpoints.name}')\n",
    "print(f'Swagger URL: {endpoints.openapi_uri}')\n",
    "print(f'inference URL: {endpoints.scoring_uri}')"
   ],
   "id": "5c8cbf4ea2b516a1",
   "outputs": [
    {
     "name": "stdout",
     "output_type": "stream",
     "text": [
      "Name: grstb05141353496629\n",
      "Swagger URL: https://grstb05141353496629.eastus.inference.ml.azure.com/swagger.json\n",
      "inference URL: https://grstb05141353496629.eastus.inference.ml.azure.com/score\n"
     ]
    }
   ],
   "execution_count": 47
  },
  {
   "metadata": {},
   "cell_type": "markdown",
   "source": "## Create a deployment for the online point",
   "id": "a4a0662b01071cfe"
  },
  {
   "metadata": {
    "ExecuteTime": {
     "end_time": "2024-05-14T09:58:40.050667Z",
     "start_time": "2024-05-14T09:58:40.046606Z"
    }
   },
   "cell_type": "code",
   "source": [
    "from azure.ai.ml.entities import ManagedOnlineDeployment, ProbeSettings\n",
    "deployment = ManagedOnlineDeployment(\n",
    "    name=\"grstb-mlflow-deploy\",\n",
    "    endpoint_name=online_endpoint_name,\n",
    "    model=registered_model.id,\n",
    "    instance_type=\"Standard_E2s_v3\",\n",
    "    instance_count=1,\n",
    "    liveness_probe=ProbeSettings(\n",
    "        failure_threshold=30,\n",
    "        success_threshold=1,\n",
    "        timeout=2,\n",
    "        period=10,\n",
    "        initial_delay=2000,\n",
    "    ),\n",
    "    readiness_probe=ProbeSettings(\n",
    "        failure_threshold=10,\n",
    "        success_threshold=1,\n",
    "        timeout=10,\n",
    "        period=10,\n",
    "        initial_delay=2000,\n",
    "    ),\n",
    ")"
   ],
   "id": "aca998bfacf2911d",
   "outputs": [],
   "execution_count": 48
  },
  {
   "metadata": {
    "ExecuteTime": {
     "end_time": "2024-05-14T10:16:09.993036Z",
     "start_time": "2024-05-14T09:58:46.336286Z"
    }
   },
   "cell_type": "code",
   "source": "client.online_deployments.begin_create_or_update(deployment).result()",
   "id": "f8b92aad6a4d2d67",
   "outputs": [
    {
     "name": "stderr",
     "output_type": "stream",
     "text": [
      "Check: endpoint grstb05141353496629 exists\n"
     ]
    },
    {
     "name": "stdout",
     "output_type": "stream",
     "text": [
      "............................................................................................................................................................................"
     ]
    },
    {
     "ename": "HttpResponseError",
     "evalue": "(None) OutOfQuota: Unable to download user model, not enough space on the disk. Please see troubleshooting guide, available here: https://aka.ms/oe-tsg#error-outofquota\nCode: None\nMessage: OutOfQuota: Unable to download user model, not enough space on the disk. Please see troubleshooting guide, available here: https://aka.ms/oe-tsg#error-outofquota\nException Details:\t(None) OutOfQuota: Unable to download user model, not enough space on the disk. Please see troubleshooting guide, available here: https://aka.ms/oe-tsg#error-outofquota\n\tCode: None\n\tMessage: OutOfQuota: Unable to download user model, not enough space on the disk. Please see troubleshooting guide, available here: https://aka.ms/oe-tsg#error-outofquota",
     "output_type": "error",
     "traceback": [
      "\u001B[0;31m---------------------------------------------------------------------------\u001B[0m",
      "\u001B[0;31mOperationFailed\u001B[0m                           Traceback (most recent call last)",
      "File \u001B[0;32m/usr/local/Caskroom/miniconda/base/envs/deep-learning/lib/python3.11/site-packages/azure/core/polling/base_polling.py:757\u001B[0m, in \u001B[0;36mLROBasePolling.run\u001B[0;34m(self)\u001B[0m\n\u001B[1;32m    756\u001B[0m \u001B[38;5;28;01mtry\u001B[39;00m:\n\u001B[0;32m--> 757\u001B[0m     \u001B[38;5;28mself\u001B[39m\u001B[38;5;241m.\u001B[39m_poll()\n\u001B[1;32m    759\u001B[0m \u001B[38;5;28;01mexcept\u001B[39;00m BadStatus \u001B[38;5;28;01mas\u001B[39;00m err:\n",
      "File \u001B[0;32m/usr/local/Caskroom/miniconda/base/envs/deep-learning/lib/python3.11/site-packages/azure/core/polling/base_polling.py:789\u001B[0m, in \u001B[0;36mLROBasePolling._poll\u001B[0;34m(self)\u001B[0m\n\u001B[1;32m    788\u001B[0m \u001B[38;5;28;01mif\u001B[39;00m _failed(\u001B[38;5;28mself\u001B[39m\u001B[38;5;241m.\u001B[39mstatus()):\n\u001B[0;32m--> 789\u001B[0m     \u001B[38;5;28;01mraise\u001B[39;00m OperationFailed(\u001B[38;5;124m\"\u001B[39m\u001B[38;5;124mOperation failed or canceled\u001B[39m\u001B[38;5;124m\"\u001B[39m)\n\u001B[1;32m    791\u001B[0m final_get_url \u001B[38;5;241m=\u001B[39m \u001B[38;5;28mself\u001B[39m\u001B[38;5;241m.\u001B[39m_operation\u001B[38;5;241m.\u001B[39mget_final_get_url(\u001B[38;5;28mself\u001B[39m\u001B[38;5;241m.\u001B[39m_pipeline_response)\n",
      "\u001B[0;31mOperationFailed\u001B[0m: Operation failed or canceled",
      "\nThe above exception was the direct cause of the following exception:\n",
      "\u001B[0;31mHttpResponseError\u001B[0m                         Traceback (most recent call last)",
      "Cell \u001B[0;32mIn[49], line 1\u001B[0m\n\u001B[0;32m----> 1\u001B[0m client\u001B[38;5;241m.\u001B[39monline_deployments\u001B[38;5;241m.\u001B[39mbegin_create_or_update(deployment)\u001B[38;5;241m.\u001B[39mresult()\n",
      "File \u001B[0;32m/usr/local/Caskroom/miniconda/base/envs/deep-learning/lib/python3.11/site-packages/azure/core/polling/_poller.py:251\u001B[0m, in \u001B[0;36mLROPoller.result\u001B[0;34m(self, timeout)\u001B[0m\n\u001B[1;32m    242\u001B[0m \u001B[38;5;28;01mdef\u001B[39;00m \u001B[38;5;21mresult\u001B[39m(\u001B[38;5;28mself\u001B[39m, timeout: Optional[\u001B[38;5;28mfloat\u001B[39m] \u001B[38;5;241m=\u001B[39m \u001B[38;5;28;01mNone\u001B[39;00m) \u001B[38;5;241m-\u001B[39m\u001B[38;5;241m>\u001B[39m PollingReturnType_co:\n\u001B[1;32m    243\u001B[0m \u001B[38;5;250m    \u001B[39m\u001B[38;5;124;03m\"\"\"Return the result of the long running operation, or\u001B[39;00m\n\u001B[1;32m    244\u001B[0m \u001B[38;5;124;03m    the result available after the specified timeout.\u001B[39;00m\n\u001B[1;32m    245\u001B[0m \n\u001B[0;32m   (...)\u001B[0m\n\u001B[1;32m    249\u001B[0m \u001B[38;5;124;03m    :raises ~azure.core.exceptions.HttpResponseError: Server problem with the query.\u001B[39;00m\n\u001B[1;32m    250\u001B[0m \u001B[38;5;124;03m    \"\"\"\u001B[39;00m\n\u001B[0;32m--> 251\u001B[0m     \u001B[38;5;28mself\u001B[39m\u001B[38;5;241m.\u001B[39mwait(timeout)\n\u001B[1;32m    252\u001B[0m     \u001B[38;5;28;01mreturn\u001B[39;00m \u001B[38;5;28mself\u001B[39m\u001B[38;5;241m.\u001B[39m_polling_method\u001B[38;5;241m.\u001B[39mresource()\n",
      "File \u001B[0;32m/usr/local/Caskroom/miniconda/base/envs/deep-learning/lib/python3.11/site-packages/azure/core/tracing/decorator.py:78\u001B[0m, in \u001B[0;36mdistributed_trace.<locals>.decorator.<locals>.wrapper_use_tracer\u001B[0;34m(*args, **kwargs)\u001B[0m\n\u001B[1;32m     76\u001B[0m span_impl_type \u001B[38;5;241m=\u001B[39m settings\u001B[38;5;241m.\u001B[39mtracing_implementation()\n\u001B[1;32m     77\u001B[0m \u001B[38;5;28;01mif\u001B[39;00m span_impl_type \u001B[38;5;129;01mis\u001B[39;00m \u001B[38;5;28;01mNone\u001B[39;00m:\n\u001B[0;32m---> 78\u001B[0m     \u001B[38;5;28;01mreturn\u001B[39;00m func(\u001B[38;5;241m*\u001B[39margs, \u001B[38;5;241m*\u001B[39m\u001B[38;5;241m*\u001B[39mkwargs)\n\u001B[1;32m     80\u001B[0m \u001B[38;5;66;03m# Merge span is parameter is set, but only if no explicit parent are passed\u001B[39;00m\n\u001B[1;32m     81\u001B[0m \u001B[38;5;28;01mif\u001B[39;00m merge_span \u001B[38;5;129;01mand\u001B[39;00m \u001B[38;5;129;01mnot\u001B[39;00m passed_in_parent:\n",
      "File \u001B[0;32m/usr/local/Caskroom/miniconda/base/envs/deep-learning/lib/python3.11/site-packages/azure/core/polling/_poller.py:270\u001B[0m, in \u001B[0;36mLROPoller.wait\u001B[0;34m(self, timeout)\u001B[0m\n\u001B[1;32m    266\u001B[0m \u001B[38;5;28mself\u001B[39m\u001B[38;5;241m.\u001B[39m_thread\u001B[38;5;241m.\u001B[39mjoin(timeout\u001B[38;5;241m=\u001B[39mtimeout)\n\u001B[1;32m    267\u001B[0m \u001B[38;5;28;01mtry\u001B[39;00m:\n\u001B[1;32m    268\u001B[0m     \u001B[38;5;66;03m# Let's handle possible None in forgiveness here\u001B[39;00m\n\u001B[1;32m    269\u001B[0m     \u001B[38;5;66;03m# https://github.com/python/mypy/issues/8165\u001B[39;00m\n\u001B[0;32m--> 270\u001B[0m     \u001B[38;5;28;01mraise\u001B[39;00m \u001B[38;5;28mself\u001B[39m\u001B[38;5;241m.\u001B[39m_exception  \u001B[38;5;66;03m# type: ignore\u001B[39;00m\n\u001B[1;32m    271\u001B[0m \u001B[38;5;28;01mexcept\u001B[39;00m \u001B[38;5;167;01mTypeError\u001B[39;00m:  \u001B[38;5;66;03m# Was None\u001B[39;00m\n\u001B[1;32m    272\u001B[0m     \u001B[38;5;28;01mpass\u001B[39;00m\n",
      "File \u001B[0;32m/usr/local/Caskroom/miniconda/base/envs/deep-learning/lib/python3.11/site-packages/azure/core/polling/_poller.py:185\u001B[0m, in \u001B[0;36mLROPoller._start\u001B[0;34m(self)\u001B[0m\n\u001B[1;32m    181\u001B[0m \u001B[38;5;250m\u001B[39m\u001B[38;5;124;03m\"\"\"Start the long running operation.\u001B[39;00m\n\u001B[1;32m    182\u001B[0m \u001B[38;5;124;03mOn completion, runs any callbacks.\u001B[39;00m\n\u001B[1;32m    183\u001B[0m \u001B[38;5;124;03m\"\"\"\u001B[39;00m\n\u001B[1;32m    184\u001B[0m \u001B[38;5;28;01mtry\u001B[39;00m:\n\u001B[0;32m--> 185\u001B[0m     \u001B[38;5;28mself\u001B[39m\u001B[38;5;241m.\u001B[39m_polling_method\u001B[38;5;241m.\u001B[39mrun()\n\u001B[1;32m    186\u001B[0m \u001B[38;5;28;01mexcept\u001B[39;00m AzureError \u001B[38;5;28;01mas\u001B[39;00m error:\n\u001B[1;32m    187\u001B[0m     \u001B[38;5;28;01mif\u001B[39;00m \u001B[38;5;129;01mnot\u001B[39;00m error\u001B[38;5;241m.\u001B[39mcontinuation_token:\n",
      "File \u001B[0;32m/usr/local/Caskroom/miniconda/base/envs/deep-learning/lib/python3.11/site-packages/azure/core/polling/base_polling.py:772\u001B[0m, in \u001B[0;36mLROBasePolling.run\u001B[0;34m(self)\u001B[0m\n\u001B[1;32m    765\u001B[0m     \u001B[38;5;28;01mraise\u001B[39;00m HttpResponseError(\n\u001B[1;32m    766\u001B[0m         response\u001B[38;5;241m=\u001B[39m\u001B[38;5;28mself\u001B[39m\u001B[38;5;241m.\u001B[39m_pipeline_response\u001B[38;5;241m.\u001B[39mhttp_response,\n\u001B[1;32m    767\u001B[0m         message\u001B[38;5;241m=\u001B[39m\u001B[38;5;28mstr\u001B[39m(err),\n\u001B[1;32m    768\u001B[0m         error\u001B[38;5;241m=\u001B[39merr,\n\u001B[1;32m    769\u001B[0m     ) \u001B[38;5;28;01mfrom\u001B[39;00m \u001B[38;5;21;01merr\u001B[39;00m\n\u001B[1;32m    771\u001B[0m \u001B[38;5;28;01mexcept\u001B[39;00m OperationFailed \u001B[38;5;28;01mas\u001B[39;00m err:\n\u001B[0;32m--> 772\u001B[0m     \u001B[38;5;28;01mraise\u001B[39;00m HttpResponseError(response\u001B[38;5;241m=\u001B[39m\u001B[38;5;28mself\u001B[39m\u001B[38;5;241m.\u001B[39m_pipeline_response\u001B[38;5;241m.\u001B[39mhttp_response, error\u001B[38;5;241m=\u001B[39merr) \u001B[38;5;28;01mfrom\u001B[39;00m \u001B[38;5;21;01merr\u001B[39;00m\n",
      "\u001B[0;31mHttpResponseError\u001B[0m: (None) OutOfQuota: Unable to download user model, not enough space on the disk. Please see troubleshooting guide, available here: https://aka.ms/oe-tsg#error-outofquota\nCode: None\nMessage: OutOfQuota: Unable to download user model, not enough space on the disk. Please see troubleshooting guide, available here: https://aka.ms/oe-tsg#error-outofquota\nException Details:\t(None) OutOfQuota: Unable to download user model, not enough space on the disk. Please see troubleshooting guide, available here: https://aka.ms/oe-tsg#error-outofquota\n\tCode: None\n\tMessage: OutOfQuota: Unable to download user model, not enough space on the disk. Please see troubleshooting guide, available here: https://aka.ms/oe-tsg#error-outofquota"
     ]
    }
   ],
   "execution_count": 49
  },
  {
   "metadata": {},
   "cell_type": "code",
   "outputs": [],
   "execution_count": null,
   "source": [
    "deployment=client.online_deployments.get(deployment.name)\n",
    "print(deployment)"
   ],
   "id": "e3fd060b0aa12e46"
  }
 ],
 "metadata": {
  "kernelspec": {
   "display_name": "Python 3",
   "language": "python",
   "name": "python3"
  },
  "language_info": {
   "codemirror_mode": {
    "name": "ipython",
    "version": 2
   },
   "file_extension": ".py",
   "mimetype": "text/x-python",
   "name": "python",
   "nbconvert_exporter": "python",
   "pygments_lexer": "ipython2",
   "version": "2.7.6"
  }
 },
 "nbformat": 4,
 "nbformat_minor": 5
}
