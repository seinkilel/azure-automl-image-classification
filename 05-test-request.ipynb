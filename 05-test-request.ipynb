{
 "cells": [
  {
   "metadata": {},
   "cell_type": "markdown",
   "source": "# Test a request ",
   "id": "f3b7a19b0a5cf1b0"
  },
  {
   "metadata": {},
   "cell_type": "code",
   "source": [
    "import base64\n",
    "\n",
    "def read_image(image_path):\n",
    "    with open(image_path, \"rb\") as f:\n",
    "        return f.read()\n",
    "\n",
    "def image_classification_request(image_path:str):\n",
    "        request_json = {\n",
    "            \"input_data\": {\n",
    "                \"columns\": [\"image\"],\n",
    "                \"data\": [base64.encodebytes(read_image(image_path)).decode(\"utf-8\")],\n",
    "                }\n",
    "            }\n",
    "        return request_json \n",
    "\n",
    "request_json=image_classification_request(\"data/test-image.png\")\n",
    "print(request_json)"
   ],
   "id": "af738f73f74e9e0c",
   "outputs": [],
   "execution_count": null
  },
  {
   "metadata": {},
   "cell_type": "code",
   "source": [
    "\n",
    "import json\n",
    "\n",
    "request_file_name = \"data/test-request.json\"\n",
    "\n",
    "with open(request_file_name, \"w\") as request_file:\n",
    "    json.dump(request_json, request_file)"
   ],
   "id": "11e76de693293cf3",
   "outputs": [],
   "execution_count": null
  },
  {
   "metadata": {},
   "cell_type": "code",
   "source": [
    "from lib import get_client\n",
    "client=get_client()\n",
    "print(f'workspace name: {client.workspace_name}')"
   ],
   "id": "9c500c3b001ec546",
   "outputs": [],
   "execution_count": null
  },
  {
   "metadata": {},
   "cell_type": "code",
   "source": [
    "online_endpoint_name=\"grstb05141353496629\"\n",
    "deployment_name=\"grstb-signal-classification-2\""
   ],
   "id": "3478cbdeff8e06e8",
   "outputs": [],
   "execution_count": null
  },
  {
   "metadata": {},
   "cell_type": "code",
   "source": [
    "endpoints=client.online_endpoints.get(online_endpoint_name)\n",
    "print(f'Name: {endpoints.name}')\n",
    "print(f'Swagger URL: {endpoints.openapi_uri}')\n",
    "print(f'inference URL: {endpoints.scoring_uri}')"
   ],
   "id": "3dc5e86933a52bff",
   "outputs": [],
   "execution_count": null
  },
  {
   "metadata": {},
   "cell_type": "code",
   "source": [
    "deployment=client.online_deployments.get(deployment_name,endpoints.name)\n",
    "deployment"
   ],
   "id": "73f44a2e06145cba",
   "outputs": [],
   "execution_count": null
  },
  {
   "metadata": {},
   "cell_type": "code",
   "source": [
    "resp = client.online_endpoints.invoke(\n",
    "    endpoint_name=online_endpoint_name,\n",
    "    deployment_name=deployment_name,\n",
    "    request_file=request_file_name,\n",
    ")\n",
    "print(resp)"
   ],
   "id": "ccde90d541122d88",
   "outputs": [],
   "execution_count": null
  }
 ],
 "metadata": {
  "kernelspec": {
   "display_name": "Python 3",
   "language": "python",
   "name": "python3"
  },
  "language_info": {
   "codemirror_mode": {
    "name": "ipython",
    "version": 2
   },
   "file_extension": ".py",
   "mimetype": "text/x-python",
   "name": "python",
   "nbconvert_exporter": "python",
   "pygments_lexer": "ipython2",
   "version": "2.7.6"
  }
 },
 "nbformat": 4,
 "nbformat_minor": 5
}
